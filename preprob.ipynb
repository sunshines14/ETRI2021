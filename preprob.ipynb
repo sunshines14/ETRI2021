{
 "cells": [
  {
   "cell_type": "code",
   "execution_count": 1,
   "metadata": {},
   "outputs": [],
   "source": [
    "import numpy as np\n",
    "import matplotlib.pyplot as plt\n",
    "import pandas as pd\n",
    "import librosa\n",
    "import librosa.display\n",
    "import soundfile as sound\n",
    "import os"
   ]
  },
  {
   "cell_type": "code",
   "execution_count": 5,
   "metadata": {},
   "outputs": [
    {
     "name": "stdout",
     "output_type": "stream",
     "text": [
      "959.2750000000001\n",
      "0\n",
      "eval_unknown.wav sr :  16000 duration :  19.1855 normalized_duration 19.18\n"
     ]
    }
   ],
   "source": [
    "class_list = ['baby','bicycle','boiling','car','carpassing','clock','dog','door','fire','glass','jackhammer','kettle','scream','siren','speech','unknown','whistle']\n",
    "\n",
    "for class_name in class_list:\n",
    "    ThisPath = 'path/' + class_name + '/'\n",
    "    OutPath = 'path/'\n",
    "    file_list = os.listdir(ThisPath)\n",
    "    \n",
    "    cnt = 0\n",
    "    for file_name in file_list:\n",
    "        \n",
    "        #it's same number with door sound\n",
    "        if(cnt>475):\n",
    "            continue\n",
    "    \n",
    "        #read audio\n",
    "        audio_path = ThisPath + file_name\n",
    "        y, sr = sound.read(audio_path)\n",
    "        \n",
    "        #stero to mono\n",
    "        if(y[0].shape == (2,)):\n",
    "            new_y = []\n",
    "            new_y = (y[:,0] + y[:,1]) / 2\n",
    "            y = new_y\n",
    "        \n",
    "        #resample (ex : 44100 -> 16000)\n",
    "        y = librosa.resample(y, sr, 16000)\n",
    "        duration = y.shape[0]/16000\n",
    "        \n",
    "        #duration\n",
    "        if(duration < 0.4):\n",
    "            continue\n",
    "\n",
    "        seconds_division = 50\n",
    "        window_length = int(16000/seconds_division)\n",
    "    \n",
    "        y_abs = np.absolute(y)\n",
    "        y_mean = y_abs.mean()\n",
    "    \n",
    "        normalized = []\n",
    "        ratio = 0.3\n",
    "        \n",
    "        print (duration*seconds_division)\n",
    "        for i in range(int(duration*seconds_division)):\n",
    "            if i % 1000 == 0:\n",
    "                print (i)\n",
    "            window = y[i * window_length : (i+1) * window_length]\n",
    "            window_abs = np.absolute(window)\n",
    "            if(window_abs.mean() > y_mean*ratio):\n",
    "                normalized = np.concatenate((normalized,window))\n",
    "        \n",
    "        s = 6400 # if 6400 --> 0.4s\n",
    "        print(file_name, \"sr : \", 16000, \"duration : \", duration, \"normalized_duration\", normalized.shape[0]/16000)        \n",
    "        for i in range(int(normalized.shape[0]/s)):\n",
    "            cnt = cnt+1\n",
    "            if(cnt>475):\n",
    "                continue\n",
    "            sound.write(OutPath + class_name + str(cnt) + '.wav', normalized[i*s:(i+1)*s],16000)\n",
    "        "
   ]
  },
  {
   "cell_type": "code",
   "execution_count": 3,
   "metadata": {},
   "outputs": [],
   "source": [
    "import re\n",
    "\n",
    "OutPath = 'path'\n",
    "ResultPath = 'path (.csv)'\n",
    "result_file_list = os.listdir(OutPath)\n",
    "class_list = ['baby','bicycle','boiling','car','carpassing','clock','dog','door','fire','glass','jackhammer','kettle','scream','siren','speech','unknown','whistle']\n",
    "\n",
    "cnt = 0\n",
    "p = re.compile(\"[^0-9]\")\n",
    "with open(ResultPath, 'w') as f:\n",
    "    for i in range(len(result_file_list)):\n",
    "        if i == 0:\n",
    "            f.write('filenames'+',')\n",
    "            f.write('scene_label')\n",
    "            f.write('\\n')\n",
    "        tmp = \"\".join(p.findall(result_file_list[i])).replace('.wav','').replace('_nomobile','')\n",
    "        if tmp in class_list:\n",
    "            class_name = tmp\n",
    "        f.write(result_file_list[i]+','+class_name)\n",
    "        f.write('\\n')\n",
    "        cnt += 1"
   ]
  },
  {
   "cell_type": "code",
   "execution_count": null,
   "metadata": {},
   "outputs": [],
   "source": []
  }
 ],
 "metadata": {
  "kernelspec": {
   "display_name": "Python 3",
   "language": "python",
   "name": "python3"
  },
  "language_info": {
   "codemirror_mode": {
    "name": "ipython",
    "version": 3
   },
   "file_extension": ".py",
   "mimetype": "text/x-python",
   "name": "python",
   "nbconvert_exporter": "python",
   "pygments_lexer": "ipython3",
   "version": "3.8.5"
  }
 },
 "nbformat": 4,
 "nbformat_minor": 4
}
